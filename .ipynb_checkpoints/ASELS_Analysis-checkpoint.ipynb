{
 "cells": [
  {
   "cell_type": "code",
   "execution_count": 66,
   "id": "818843be",
   "metadata": {},
   "outputs": [],
   "source": [
    "# Importing necassery libraries\n",
    "import numpy as np\n",
    "import pandas as pd\n",
    "import seaborn as sns\n",
    "import matplotlib.pyplot as plt"
   ]
  },
  {
   "cell_type": "code",
   "execution_count": 3,
   "id": "f84144bc",
   "metadata": {},
   "outputs": [],
   "source": [
    "# Reading dataset\n",
    "df_asels = pd.read_csv(\"ASELS Historical Data.csv\")"
   ]
  },
  {
   "cell_type": "code",
   "execution_count": 5,
   "id": "c5939a53",
   "metadata": {},
   "outputs": [
    {
     "data": {
      "text/html": [
       "<div>\n",
       "<style scoped>\n",
       "    .dataframe tbody tr th:only-of-type {\n",
       "        vertical-align: middle;\n",
       "    }\n",
       "\n",
       "    .dataframe tbody tr th {\n",
       "        vertical-align: top;\n",
       "    }\n",
       "\n",
       "    .dataframe thead th {\n",
       "        text-align: right;\n",
       "    }\n",
       "</style>\n",
       "<table border=\"1\" class=\"dataframe\">\n",
       "  <thead>\n",
       "    <tr style=\"text-align: right;\">\n",
       "      <th></th>\n",
       "      <th>Date</th>\n",
       "      <th>Price</th>\n",
       "      <th>Open</th>\n",
       "      <th>High</th>\n",
       "      <th>Low</th>\n",
       "      <th>Vol.</th>\n",
       "      <th>Change %</th>\n",
       "    </tr>\n",
       "  </thead>\n",
       "  <tbody>\n",
       "    <tr>\n",
       "      <th>0</th>\n",
       "      <td>01/02/2023</td>\n",
       "      <td>63.75</td>\n",
       "      <td>63.00</td>\n",
       "      <td>64.65</td>\n",
       "      <td>62.80</td>\n",
       "      <td>50.23M</td>\n",
       "      <td>2.57%</td>\n",
       "    </tr>\n",
       "    <tr>\n",
       "      <th>1</th>\n",
       "      <td>12/30/2022</td>\n",
       "      <td>62.15</td>\n",
       "      <td>59.40</td>\n",
       "      <td>63.30</td>\n",
       "      <td>59.35</td>\n",
       "      <td>179.05M</td>\n",
       "      <td>5.70%</td>\n",
       "    </tr>\n",
       "    <tr>\n",
       "      <th>2</th>\n",
       "      <td>12/29/2022</td>\n",
       "      <td>58.80</td>\n",
       "      <td>58.40</td>\n",
       "      <td>59.60</td>\n",
       "      <td>57.90</td>\n",
       "      <td>63.54M</td>\n",
       "      <td>0.68%</td>\n",
       "    </tr>\n",
       "    <tr>\n",
       "      <th>3</th>\n",
       "      <td>12/28/2022</td>\n",
       "      <td>58.40</td>\n",
       "      <td>58.00</td>\n",
       "      <td>58.75</td>\n",
       "      <td>56.15</td>\n",
       "      <td>92.32M</td>\n",
       "      <td>0.78%</td>\n",
       "    </tr>\n",
       "    <tr>\n",
       "      <th>4</th>\n",
       "      <td>12/27/2022</td>\n",
       "      <td>57.95</td>\n",
       "      <td>59.25</td>\n",
       "      <td>59.65</td>\n",
       "      <td>57.75</td>\n",
       "      <td>62.77M</td>\n",
       "      <td>-2.11%</td>\n",
       "    </tr>\n",
       "    <tr>\n",
       "      <th>5</th>\n",
       "      <td>12/26/2022</td>\n",
       "      <td>59.20</td>\n",
       "      <td>58.80</td>\n",
       "      <td>60.15</td>\n",
       "      <td>58.60</td>\n",
       "      <td>78.15M</td>\n",
       "      <td>2.07%</td>\n",
       "    </tr>\n",
       "    <tr>\n",
       "      <th>6</th>\n",
       "      <td>12/23/2022</td>\n",
       "      <td>58.00</td>\n",
       "      <td>58.25</td>\n",
       "      <td>59.25</td>\n",
       "      <td>57.65</td>\n",
       "      <td>51.95M</td>\n",
       "      <td>-0.17%</td>\n",
       "    </tr>\n",
       "    <tr>\n",
       "      <th>7</th>\n",
       "      <td>12/22/2022</td>\n",
       "      <td>58.10</td>\n",
       "      <td>59.55</td>\n",
       "      <td>60.05</td>\n",
       "      <td>57.60</td>\n",
       "      <td>66.30M</td>\n",
       "      <td>-1.94%</td>\n",
       "    </tr>\n",
       "    <tr>\n",
       "      <th>8</th>\n",
       "      <td>12/21/2022</td>\n",
       "      <td>59.25</td>\n",
       "      <td>61.20</td>\n",
       "      <td>61.65</td>\n",
       "      <td>58.85</td>\n",
       "      <td>100.70M</td>\n",
       "      <td>-2.87%</td>\n",
       "    </tr>\n",
       "    <tr>\n",
       "      <th>9</th>\n",
       "      <td>12/20/2022</td>\n",
       "      <td>61.00</td>\n",
       "      <td>59.45</td>\n",
       "      <td>62.25</td>\n",
       "      <td>58.90</td>\n",
       "      <td>149.19M</td>\n",
       "      <td>2.61%</td>\n",
       "    </tr>\n",
       "  </tbody>\n",
       "</table>\n",
       "</div>"
      ],
      "text/plain": [
       "         Date  Price   Open   High    Low     Vol. Change %\n",
       "0  01/02/2023  63.75  63.00  64.65  62.80   50.23M    2.57%\n",
       "1  12/30/2022  62.15  59.40  63.30  59.35  179.05M    5.70%\n",
       "2  12/29/2022  58.80  58.40  59.60  57.90   63.54M    0.68%\n",
       "3  12/28/2022  58.40  58.00  58.75  56.15   92.32M    0.78%\n",
       "4  12/27/2022  57.95  59.25  59.65  57.75   62.77M   -2.11%\n",
       "5  12/26/2022  59.20  58.80  60.15  58.60   78.15M    2.07%\n",
       "6  12/23/2022  58.00  58.25  59.25  57.65   51.95M   -0.17%\n",
       "7  12/22/2022  58.10  59.55  60.05  57.60   66.30M   -1.94%\n",
       "8  12/21/2022  59.25  61.20  61.65  58.85  100.70M   -2.87%\n",
       "9  12/20/2022  61.00  59.45  62.25  58.90  149.19M    2.61%"
      ]
     },
     "execution_count": 5,
     "metadata": {},
     "output_type": "execute_result"
    }
   ],
   "source": [
    "# First 10 data in dataset\n",
    "# Date object is Mounth/Day/Year\n",
    "# As it can see from head and tail of dataset it includes year 2022 week days\n",
    "df_asels.head(10)"
   ]
  },
  {
   "cell_type": "code",
   "execution_count": 11,
   "id": "c2913efc",
   "metadata": {},
   "outputs": [
    {
     "data": {
      "text/html": [
       "<div>\n",
       "<style scoped>\n",
       "    .dataframe tbody tr th:only-of-type {\n",
       "        vertical-align: middle;\n",
       "    }\n",
       "\n",
       "    .dataframe tbody tr th {\n",
       "        vertical-align: top;\n",
       "    }\n",
       "\n",
       "    .dataframe thead th {\n",
       "        text-align: right;\n",
       "    }\n",
       "</style>\n",
       "<table border=\"1\" class=\"dataframe\">\n",
       "  <thead>\n",
       "    <tr style=\"text-align: right;\">\n",
       "      <th></th>\n",
       "      <th>Date</th>\n",
       "      <th>Price</th>\n",
       "      <th>Open</th>\n",
       "      <th>High</th>\n",
       "      <th>Low</th>\n",
       "      <th>Vol.</th>\n",
       "      <th>Change %</th>\n",
       "    </tr>\n",
       "  </thead>\n",
       "  <tbody>\n",
       "    <tr>\n",
       "      <th>243</th>\n",
       "      <td>01/14/2022</td>\n",
       "      <td>24.02</td>\n",
       "      <td>24.16</td>\n",
       "      <td>24.22</td>\n",
       "      <td>23.66</td>\n",
       "      <td>38.35M</td>\n",
       "      <td>-0.66%</td>\n",
       "    </tr>\n",
       "    <tr>\n",
       "      <th>244</th>\n",
       "      <td>01/13/2022</td>\n",
       "      <td>24.18</td>\n",
       "      <td>24.08</td>\n",
       "      <td>24.78</td>\n",
       "      <td>24.00</td>\n",
       "      <td>75.08M</td>\n",
       "      <td>0.58%</td>\n",
       "    </tr>\n",
       "    <tr>\n",
       "      <th>245</th>\n",
       "      <td>01/12/2022</td>\n",
       "      <td>24.04</td>\n",
       "      <td>24.26</td>\n",
       "      <td>24.40</td>\n",
       "      <td>23.88</td>\n",
       "      <td>35.52M</td>\n",
       "      <td>0.67%</td>\n",
       "    </tr>\n",
       "    <tr>\n",
       "      <th>246</th>\n",
       "      <td>01/11/2022</td>\n",
       "      <td>23.88</td>\n",
       "      <td>24.40</td>\n",
       "      <td>24.46</td>\n",
       "      <td>23.33</td>\n",
       "      <td>59.13M</td>\n",
       "      <td>-0.83%</td>\n",
       "    </tr>\n",
       "    <tr>\n",
       "      <th>247</th>\n",
       "      <td>01/10/2022</td>\n",
       "      <td>24.08</td>\n",
       "      <td>23.56</td>\n",
       "      <td>24.62</td>\n",
       "      <td>23.50</td>\n",
       "      <td>71.71M</td>\n",
       "      <td>3.15%</td>\n",
       "    </tr>\n",
       "    <tr>\n",
       "      <th>248</th>\n",
       "      <td>01/07/2022</td>\n",
       "      <td>23.34</td>\n",
       "      <td>23.34</td>\n",
       "      <td>23.56</td>\n",
       "      <td>22.83</td>\n",
       "      <td>32.30M</td>\n",
       "      <td>0.86%</td>\n",
       "    </tr>\n",
       "    <tr>\n",
       "      <th>249</th>\n",
       "      <td>01/06/2022</td>\n",
       "      <td>23.15</td>\n",
       "      <td>22.65</td>\n",
       "      <td>23.64</td>\n",
       "      <td>22.57</td>\n",
       "      <td>59.22M</td>\n",
       "      <td>1.04%</td>\n",
       "    </tr>\n",
       "    <tr>\n",
       "      <th>250</th>\n",
       "      <td>01/05/2022</td>\n",
       "      <td>22.91</td>\n",
       "      <td>22.41</td>\n",
       "      <td>22.99</td>\n",
       "      <td>22.01</td>\n",
       "      <td>44.95M</td>\n",
       "      <td>2.31%</td>\n",
       "    </tr>\n",
       "    <tr>\n",
       "      <th>251</th>\n",
       "      <td>01/04/2022</td>\n",
       "      <td>22.39</td>\n",
       "      <td>21.91</td>\n",
       "      <td>22.67</td>\n",
       "      <td>21.73</td>\n",
       "      <td>53.08M</td>\n",
       "      <td>3.21%</td>\n",
       "    </tr>\n",
       "    <tr>\n",
       "      <th>252</th>\n",
       "      <td>01/03/2022</td>\n",
       "      <td>21.69</td>\n",
       "      <td>20.88</td>\n",
       "      <td>21.69</td>\n",
       "      <td>20.74</td>\n",
       "      <td>30.53M</td>\n",
       "      <td>4.41%</td>\n",
       "    </tr>\n",
       "  </tbody>\n",
       "</table>\n",
       "</div>"
      ],
      "text/plain": [
       "           Date  Price   Open   High    Low    Vol. Change %\n",
       "243  01/14/2022  24.02  24.16  24.22  23.66  38.35M   -0.66%\n",
       "244  01/13/2022  24.18  24.08  24.78  24.00  75.08M    0.58%\n",
       "245  01/12/2022  24.04  24.26  24.40  23.88  35.52M    0.67%\n",
       "246  01/11/2022  23.88  24.40  24.46  23.33  59.13M   -0.83%\n",
       "247  01/10/2022  24.08  23.56  24.62  23.50  71.71M    3.15%\n",
       "248  01/07/2022  23.34  23.34  23.56  22.83  32.30M    0.86%\n",
       "249  01/06/2022  23.15  22.65  23.64  22.57  59.22M    1.04%\n",
       "250  01/05/2022  22.91  22.41  22.99  22.01  44.95M    2.31%\n",
       "251  01/04/2022  22.39  21.91  22.67  21.73  53.08M    3.21%\n",
       "252  01/03/2022  21.69  20.88  21.69  20.74  30.53M    4.41%"
      ]
     },
     "execution_count": 11,
     "metadata": {},
     "output_type": "execute_result"
    }
   ],
   "source": [
    "df_asels.tail(10)"
   ]
  },
  {
   "cell_type": "code",
   "execution_count": 10,
   "id": "1066de6f",
   "metadata": {},
   "outputs": [
    {
     "data": {
      "text/html": [
       "<div>\n",
       "<style scoped>\n",
       "    .dataframe tbody tr th:only-of-type {\n",
       "        vertical-align: middle;\n",
       "    }\n",
       "\n",
       "    .dataframe tbody tr th {\n",
       "        vertical-align: top;\n",
       "    }\n",
       "\n",
       "    .dataframe thead th {\n",
       "        text-align: right;\n",
       "    }\n",
       "</style>\n",
       "<table border=\"1\" class=\"dataframe\">\n",
       "  <thead>\n",
       "    <tr style=\"text-align: right;\">\n",
       "      <th></th>\n",
       "      <th>Price</th>\n",
       "      <th>Open</th>\n",
       "      <th>High</th>\n",
       "      <th>Low</th>\n",
       "    </tr>\n",
       "  </thead>\n",
       "  <tbody>\n",
       "    <tr>\n",
       "      <th>count</th>\n",
       "      <td>253.000000</td>\n",
       "      <td>253.000000</td>\n",
       "      <td>253.000000</td>\n",
       "      <td>253.000000</td>\n",
       "    </tr>\n",
       "    <tr>\n",
       "      <th>mean</th>\n",
       "      <td>29.241383</td>\n",
       "      <td>29.218696</td>\n",
       "      <td>29.921265</td>\n",
       "      <td>28.671897</td>\n",
       "    </tr>\n",
       "    <tr>\n",
       "      <th>std</th>\n",
       "      <td>10.291744</td>\n",
       "      <td>10.186036</td>\n",
       "      <td>10.626356</td>\n",
       "      <td>9.945096</td>\n",
       "    </tr>\n",
       "    <tr>\n",
       "      <th>min</th>\n",
       "      <td>18.810000</td>\n",
       "      <td>19.010000</td>\n",
       "      <td>20.060000</td>\n",
       "      <td>18.810000</td>\n",
       "    </tr>\n",
       "    <tr>\n",
       "      <th>10%</th>\n",
       "      <td>21.818000</td>\n",
       "      <td>21.870000</td>\n",
       "      <td>22.170000</td>\n",
       "      <td>21.502000</td>\n",
       "    </tr>\n",
       "    <tr>\n",
       "      <th>30%</th>\n",
       "      <td>23.306000</td>\n",
       "      <td>23.404000</td>\n",
       "      <td>23.836000</td>\n",
       "      <td>23.050000</td>\n",
       "    </tr>\n",
       "    <tr>\n",
       "      <th>50%</th>\n",
       "      <td>24.440000</td>\n",
       "      <td>24.440000</td>\n",
       "      <td>24.860000</td>\n",
       "      <td>24.100000</td>\n",
       "    </tr>\n",
       "    <tr>\n",
       "      <th>70%</th>\n",
       "      <td>29.890000</td>\n",
       "      <td>29.838000</td>\n",
       "      <td>30.838000</td>\n",
       "      <td>29.084000</td>\n",
       "    </tr>\n",
       "    <tr>\n",
       "      <th>90%</th>\n",
       "      <td>46.968000</td>\n",
       "      <td>46.588000</td>\n",
       "      <td>48.148000</td>\n",
       "      <td>45.876000</td>\n",
       "    </tr>\n",
       "    <tr>\n",
       "      <th>max</th>\n",
       "      <td>63.750000</td>\n",
       "      <td>63.000000</td>\n",
       "      <td>64.650000</td>\n",
       "      <td>62.800000</td>\n",
       "    </tr>\n",
       "  </tbody>\n",
       "</table>\n",
       "</div>"
      ],
      "text/plain": [
       "            Price        Open        High         Low\n",
       "count  253.000000  253.000000  253.000000  253.000000\n",
       "mean    29.241383   29.218696   29.921265   28.671897\n",
       "std     10.291744   10.186036   10.626356    9.945096\n",
       "min     18.810000   19.010000   20.060000   18.810000\n",
       "10%     21.818000   21.870000   22.170000   21.502000\n",
       "30%     23.306000   23.404000   23.836000   23.050000\n",
       "50%     24.440000   24.440000   24.860000   24.100000\n",
       "70%     29.890000   29.838000   30.838000   29.084000\n",
       "90%     46.968000   46.588000   48.148000   45.876000\n",
       "max     63.750000   63.000000   64.650000   62.800000"
      ]
     },
     "execution_count": 10,
     "metadata": {},
     "output_type": "execute_result"
    }
   ],
   "source": [
    "# There are 253 data in dataset\n",
    "# Percentiles are like below\n",
    "df_asels.describe(percentiles=[0.1, 0.3, 0.7, 0.9])"
   ]
  },
  {
   "cell_type": "code",
   "execution_count": 7,
   "id": "37924b58",
   "metadata": {},
   "outputs": [
    {
     "name": "stdout",
     "output_type": "stream",
     "text": [
      "<class 'pandas.core.frame.DataFrame'>\n",
      "RangeIndex: 253 entries, 0 to 252\n",
      "Data columns (total 7 columns):\n",
      " #   Column    Non-Null Count  Dtype  \n",
      "---  ------    --------------  -----  \n",
      " 0   Date      253 non-null    object \n",
      " 1   Price     253 non-null    float64\n",
      " 2   Open      253 non-null    float64\n",
      " 3   High      253 non-null    float64\n",
      " 4   Low       253 non-null    float64\n",
      " 5   Vol.      253 non-null    object \n",
      " 6   Change %  253 non-null    object \n",
      "dtypes: float64(4), object(3)\n",
      "memory usage: 14.0+ KB\n"
     ]
    }
   ],
   "source": [
    "# There are 7 feature in this dataset. 4 of them numeric 3 of them objects.\n",
    "df_asels.info()"
   ]
  },
  {
   "cell_type": "code",
   "execution_count": 8,
   "id": "0078d99b",
   "metadata": {},
   "outputs": [
    {
     "data": {
      "text/plain": [
       "Date        0\n",
       "Price       0\n",
       "Open        0\n",
       "High        0\n",
       "Low         0\n",
       "Vol.        0\n",
       "Change %    0\n",
       "dtype: int64"
      ]
     },
     "execution_count": 8,
     "metadata": {},
     "output_type": "execute_result"
    }
   ],
   "source": [
    "# As it can seen there is no missing datum.\n",
    "df_asels.isnull().sum()"
   ]
  },
  {
   "cell_type": "code",
   "execution_count": 9,
   "id": "de6a2cdf",
   "metadata": {},
   "outputs": [
    {
     "data": {
      "text/plain": [
       "253"
      ]
     },
     "execution_count": 9,
     "metadata": {},
     "output_type": "execute_result"
    }
   ],
   "source": [
    "df_asels.shape[0]"
   ]
  },
  {
   "cell_type": "code",
   "execution_count": 119,
   "id": "e00606ce",
   "metadata": {},
   "outputs": [
    {
     "data": {
      "text/plain": [
       "<AxesSubplot:title={'center':'Boxplot'}, ylabel='Values'>"
      ]
     },
     "execution_count": 119,
     "metadata": {},
     "output_type": "execute_result"
    },
    {
     "data": {
      "image/png": "[encoded data removed]",
      "text/plain": [
       "<Figure size 1080x720 with 1 Axes>"
      ]
     },
     "metadata": {
      "needs_background": "light"
     },
     "output_type": "display_data"
    }
   ],
   "source": [
    "df_asels.plot(y=[\"Price\", \"Open\", \"High\",\"Low\"], kind=\"box\", title=\"Boxplot\", rot=60, xlabel=\"Features\",ylabel=\"Values\", figsize = [15,10], grid=True, fontsize=15, colormap=\"seismic\")"
   ]
  },
  {
   "cell_type": "code",
   "execution_count": 179,
   "id": "42e94c27",
   "metadata": {},
   "outputs": [
    {
     "data": {
      "text/plain": [
       "Text(0, 0.5, 'Values')"
      ]
     },
     "execution_count": 179,
     "metadata": {},
     "output_type": "execute_result"
    },
    {
     "data": {
      "image/png": "[encoded data removed]",
      "text/plain": [
       "<Figure size 864x576 with 1 Axes>"
      ]
     },
     "metadata": {},
     "output_type": "display_data"
    }
   ],
   "source": [
    "sns.set_theme(style=\"ticks\", palette=\"pastel\", rc={'figure.figsize':(12,8)})\n",
    "boxplot = sns.boxplot(data=df_asels)\n",
    "boxplot.set_title(\"Boxplot\", fontsize=25)\n",
    "boxplot.set_xticklabels(['Price', 'Open', 'High', 'Low'], fontsize=15)\n",
    "boxplot.set_xlabel(\"Features\",fontsize=20)\n",
    "boxplot.set_ylabel(\"Values\",fontsize=20)"
   ]
  },
  {
   "cell_type": "code",
   "execution_count": null,
   "id": "ba8822da",
   "metadata": {},
   "outputs": [],
   "source": []
  }
 ],
 "metadata": {
  "kernelspec": {
   "display_name": "Python 3 (ipykernel)",
   "language": "python",
   "name": "python3"
  },
  "language_info": {
   "codemirror_mode": {
    "name": "ipython",
    "version": 3
   },
   "file_extension": ".py",
   "mimetype": "text/x-python",
   "name": "python",
   "nbconvert_exporter": "python",
   "pygments_lexer": "ipython3",
   "version": "3.9.12"
  }
 },
 "nbformat": 4,
 "nbformat_minor": 5
}
